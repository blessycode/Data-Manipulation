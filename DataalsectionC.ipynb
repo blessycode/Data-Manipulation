{
 "cells": [
  {
   "cell_type": "code",
   "execution_count": 1,
   "id": "f20a5a71-8e16-486c-94fa-7492f23bfcbc",
   "metadata": {},
   "outputs": [],
   "source": [
    "##loading librabries \n",
    "import pandas as pd\n",
    "import numpy as np\n",
    "import matplotlib.pyplot as plt\n",
    "import seaborn as sns\n",
    "from scipy import stats\n",
    "%matplotlib inline\n",
    "import warnings\n",
    "warnings.filterwarnings('ignore')"
   ]
  },
  {
   "cell_type": "code",
   "execution_count": 2,
   "id": "e6ef8564-11b6-4d6a-b363-4e5edc5d8978",
   "metadata": {},
   "outputs": [],
   "source": [
    "##READ CSV\n",
    "employees_data = pd.read_csv(\"data.csv\")"
   ]
  },
  {
   "cell_type": "code",
   "execution_count": 3,
   "id": "113f751e-5831-41cf-b05c-eb26ccd32d70",
   "metadata": {},
   "outputs": [
    {
     "data": {
      "text/html": [
       "<div>\n",
       "<style scoped>\n",
       "    .dataframe tbody tr th:only-of-type {\n",
       "        vertical-align: middle;\n",
       "    }\n",
       "\n",
       "    .dataframe tbody tr th {\n",
       "        vertical-align: top;\n",
       "    }\n",
       "\n",
       "    .dataframe thead th {\n",
       "        text-align: right;\n",
       "    }\n",
       "</style>\n",
       "<table border=\"1\" class=\"dataframe\">\n",
       "  <thead>\n",
       "    <tr style=\"text-align: right;\">\n",
       "      <th></th>\n",
       "      <th>employee_id</th>\n",
       "      <th>name</th>\n",
       "      <th>age</th>\n",
       "      <th>department</th>\n",
       "      <th>salary</th>\n",
       "      <th>country</th>\n",
       "      <th>years_of_experience</th>\n",
       "      <th>performance_score</th>\n",
       "    </tr>\n",
       "  </thead>\n",
       "  <tbody>\n",
       "    <tr>\n",
       "      <th>0</th>\n",
       "      <td>1</td>\n",
       "      <td>Employee 1</td>\n",
       "      <td>23</td>\n",
       "      <td>Engineering</td>\n",
       "      <td>43469</td>\n",
       "      <td>USA</td>\n",
       "      <td>1</td>\n",
       "      <td>2</td>\n",
       "    </tr>\n",
       "    <tr>\n",
       "      <th>1</th>\n",
       "      <td>2</td>\n",
       "      <td>Employee 2</td>\n",
       "      <td>24</td>\n",
       "      <td>Marketing</td>\n",
       "      <td>43792</td>\n",
       "      <td>Canada</td>\n",
       "      <td>2</td>\n",
       "      <td>3</td>\n",
       "    </tr>\n",
       "    <tr>\n",
       "      <th>2</th>\n",
       "      <td>3</td>\n",
       "      <td>Employee 3</td>\n",
       "      <td>25</td>\n",
       "      <td>Sales</td>\n",
       "      <td>44115</td>\n",
       "      <td>UK</td>\n",
       "      <td>3</td>\n",
       "      <td>4</td>\n",
       "    </tr>\n",
       "    <tr>\n",
       "      <th>3</th>\n",
       "      <td>4</td>\n",
       "      <td>Employee 4</td>\n",
       "      <td>26</td>\n",
       "      <td>HR</td>\n",
       "      <td>44438</td>\n",
       "      <td>Germany</td>\n",
       "      <td>4</td>\n",
       "      <td>5</td>\n",
       "    </tr>\n",
       "    <tr>\n",
       "      <th>4</th>\n",
       "      <td>5</td>\n",
       "      <td>Employee 5</td>\n",
       "      <td>27</td>\n",
       "      <td>Finance</td>\n",
       "      <td>44761</td>\n",
       "      <td>France</td>\n",
       "      <td>5</td>\n",
       "      <td>1</td>\n",
       "    </tr>\n",
       "  </tbody>\n",
       "</table>\n",
       "</div>"
      ],
      "text/plain": [
       "   employee_id        name  age   department  salary  country  \\\n",
       "0            1  Employee 1   23  Engineering   43469      USA   \n",
       "1            2  Employee 2   24    Marketing   43792   Canada   \n",
       "2            3  Employee 3   25        Sales   44115       UK   \n",
       "3            4  Employee 4   26           HR   44438  Germany   \n",
       "4            5  Employee 5   27      Finance   44761   France   \n",
       "\n",
       "   years_of_experience  performance_score  \n",
       "0                    1                  2  \n",
       "1                    2                  3  \n",
       "2                    3                  4  \n",
       "3                    4                  5  \n",
       "4                    5                  1  "
      ]
     },
     "execution_count": 3,
     "metadata": {},
     "output_type": "execute_result"
    }
   ],
   "source": [
    "employees_data.head()"
   ]
  },
  {
   "cell_type": "code",
   "execution_count": 4,
   "id": "a2b48fdc-aef2-46b3-abf6-0f204a20a933",
   "metadata": {},
   "outputs": [
    {
     "data": {
      "text/html": [
       "<div>\n",
       "<style scoped>\n",
       "    .dataframe tbody tr th:only-of-type {\n",
       "        vertical-align: middle;\n",
       "    }\n",
       "\n",
       "    .dataframe tbody tr th {\n",
       "        vertical-align: top;\n",
       "    }\n",
       "\n",
       "    .dataframe thead th {\n",
       "        text-align: right;\n",
       "    }\n",
       "</style>\n",
       "<table border=\"1\" class=\"dataframe\">\n",
       "  <thead>\n",
       "    <tr style=\"text-align: right;\">\n",
       "      <th></th>\n",
       "      <th>employee_id</th>\n",
       "      <th>age</th>\n",
       "      <th>salary</th>\n",
       "      <th>years_of_experience</th>\n",
       "      <th>performance_score</th>\n",
       "    </tr>\n",
       "  </thead>\n",
       "  <tbody>\n",
       "    <tr>\n",
       "      <th>count</th>\n",
       "      <td>200.000000</td>\n",
       "      <td>200.00000</td>\n",
       "      <td>200.000000</td>\n",
       "      <td>200.000000</td>\n",
       "      <td>200.000000</td>\n",
       "    </tr>\n",
       "    <tr>\n",
       "      <th>mean</th>\n",
       "      <td>100.500000</td>\n",
       "      <td>40.60000</td>\n",
       "      <td>75607.500000</td>\n",
       "      <td>14.475000</td>\n",
       "      <td>3.000000</td>\n",
       "    </tr>\n",
       "    <tr>\n",
       "      <th>std</th>\n",
       "      <td>57.879185</td>\n",
       "      <td>11.42113</td>\n",
       "      <td>18694.976598</td>\n",
       "      <td>8.921735</td>\n",
       "      <td>1.417762</td>\n",
       "    </tr>\n",
       "    <tr>\n",
       "      <th>min</th>\n",
       "      <td>1.000000</td>\n",
       "      <td>22.00000</td>\n",
       "      <td>43469.000000</td>\n",
       "      <td>0.000000</td>\n",
       "      <td>1.000000</td>\n",
       "    </tr>\n",
       "    <tr>\n",
       "      <th>25%</th>\n",
       "      <td>50.750000</td>\n",
       "      <td>30.75000</td>\n",
       "      <td>59538.250000</td>\n",
       "      <td>7.000000</td>\n",
       "      <td>2.000000</td>\n",
       "    </tr>\n",
       "    <tr>\n",
       "      <th>50%</th>\n",
       "      <td>100.500000</td>\n",
       "      <td>40.50000</td>\n",
       "      <td>75607.500000</td>\n",
       "      <td>14.000000</td>\n",
       "      <td>3.000000</td>\n",
       "    </tr>\n",
       "    <tr>\n",
       "      <th>75%</th>\n",
       "      <td>150.250000</td>\n",
       "      <td>50.25000</td>\n",
       "      <td>91676.750000</td>\n",
       "      <td>22.000000</td>\n",
       "      <td>4.000000</td>\n",
       "    </tr>\n",
       "    <tr>\n",
       "      <th>max</th>\n",
       "      <td>200.000000</td>\n",
       "      <td>60.00000</td>\n",
       "      <td>107746.000000</td>\n",
       "      <td>30.000000</td>\n",
       "      <td>5.000000</td>\n",
       "    </tr>\n",
       "  </tbody>\n",
       "</table>\n",
       "</div>"
      ],
      "text/plain": [
       "       employee_id        age         salary  years_of_experience  \\\n",
       "count   200.000000  200.00000     200.000000           200.000000   \n",
       "mean    100.500000   40.60000   75607.500000            14.475000   \n",
       "std      57.879185   11.42113   18694.976598             8.921735   \n",
       "min       1.000000   22.00000   43469.000000             0.000000   \n",
       "25%      50.750000   30.75000   59538.250000             7.000000   \n",
       "50%     100.500000   40.50000   75607.500000            14.000000   \n",
       "75%     150.250000   50.25000   91676.750000            22.000000   \n",
       "max     200.000000   60.00000  107746.000000            30.000000   \n",
       "\n",
       "       performance_score  \n",
       "count         200.000000  \n",
       "mean            3.000000  \n",
       "std             1.417762  \n",
       "min             1.000000  \n",
       "25%             2.000000  \n",
       "50%             3.000000  \n",
       "75%             4.000000  \n",
       "max             5.000000  "
      ]
     },
     "execution_count": 4,
     "metadata": {},
     "output_type": "execute_result"
    }
   ],
   "source": [
    "employees_data.describe()"
   ]
  },
  {
   "cell_type": "markdown",
   "id": "a8d406cd-4cb9-42b9-945d-c4f63ee4704e",
   "metadata": {},
   "source": [
    "#### Display Summary statistics"
   ]
  },
  {
   "cell_type": "code",
   "execution_count": 5,
   "id": "f95031d5-ea7d-4e52-ae91-04cf2430fd54",
   "metadata": {},
   "outputs": [
    {
     "name": "stdout",
     "output_type": "stream",
     "text": [
      "Summary Statistics:\n",
      "        employee_id        name        age   department         salary  \\\n",
      "count    200.000000         200  200.00000          200     200.000000   \n",
      "unique          NaN         200        NaN            6            NaN   \n",
      "top             NaN  Employee 1        NaN  Engineering            NaN   \n",
      "freq            NaN           1        NaN           34            NaN   \n",
      "mean     100.500000         NaN   40.60000          NaN   75607.500000   \n",
      "std       57.879185         NaN   11.42113          NaN   18694.976598   \n",
      "min        1.000000         NaN   22.00000          NaN   43469.000000   \n",
      "25%       50.750000         NaN   30.75000          NaN   59538.250000   \n",
      "50%      100.500000         NaN   40.50000          NaN   75607.500000   \n",
      "75%      150.250000         NaN   50.25000          NaN   91676.750000   \n",
      "max      200.000000         NaN   60.00000          NaN  107746.000000   \n",
      "\n",
      "       country  years_of_experience  performance_score  \n",
      "count      200           200.000000         200.000000  \n",
      "unique       7                  NaN                NaN  \n",
      "top        USA                  NaN                NaN  \n",
      "freq        29                  NaN                NaN  \n",
      "mean       NaN            14.475000           3.000000  \n",
      "std        NaN             8.921735           1.417762  \n",
      "min        NaN             0.000000           1.000000  \n",
      "25%        NaN             7.000000           2.000000  \n",
      "50%        NaN            14.000000           3.000000  \n",
      "75%        NaN            22.000000           4.000000  \n",
      "max        NaN            30.000000           5.000000  \n"
     ]
    }
   ],
   "source": [
    "# 2.summary statistics\n",
    "print(\"Summary Statistics:\")\n",
    "print(employees_data.describe(include='all')) "
   ]
  },
  {
   "cell_type": "markdown",
   "id": "a6208bf1-567d-48a7-b94e-a2394d5024fc",
   "metadata": {},
   "source": [
    "##### Show the count of unique departments and countries."
   ]
  },
  {
   "cell_type": "code",
   "execution_count": 6,
   "id": "d8aba0f2-e57f-4cc2-8a93-2ffdb34095e3",
   "metadata": {},
   "outputs": [
    {
     "name": "stdout",
     "output_type": "stream",
     "text": [
      "\n",
      "Count of Unique Departments:\n",
      "6\n",
      "\n",
      "Count of Unique Countries:\n",
      "7\n"
     ]
    }
   ],
   "source": [
    "#3. Count of unique departments and countries\n",
    "print(\"\\nCount of Unique Departments:\")\n",
    "print(employees_data['department'].nunique())  \n",
    "##\n",
    "print(\"\\nCount of Unique Countries:\")\n",
    "print(employees_data['country'].nunique()) "
   ]
  },
  {
   "cell_type": "markdown",
   "id": "1cc24f54-ce86-4b60-b095-ba990e4ead3c",
   "metadata": {},
   "source": [
    "##### 2. Filtering and Conditional Selection\n"
   ]
  },
  {
   "cell_type": "code",
   "execution_count": 7,
   "id": "adc73475-498e-4163-bdfd-f4b52147d0ce",
   "metadata": {},
   "outputs": [
    {
     "data": {
      "text/html": [
       "<div>\n",
       "<style scoped>\n",
       "    .dataframe tbody tr th:only-of-type {\n",
       "        vertical-align: middle;\n",
       "    }\n",
       "\n",
       "    .dataframe tbody tr th {\n",
       "        vertical-align: top;\n",
       "    }\n",
       "\n",
       "    .dataframe thead th {\n",
       "        text-align: right;\n",
       "    }\n",
       "</style>\n",
       "<table border=\"1\" class=\"dataframe\">\n",
       "  <thead>\n",
       "    <tr style=\"text-align: right;\">\n",
       "      <th></th>\n",
       "      <th>employee_id</th>\n",
       "      <th>name</th>\n",
       "      <th>age</th>\n",
       "      <th>department</th>\n",
       "      <th>salary</th>\n",
       "      <th>country</th>\n",
       "      <th>years_of_experience</th>\n",
       "      <th>performance_score</th>\n",
       "    </tr>\n",
       "  </thead>\n",
       "  <tbody>\n",
       "    <tr>\n",
       "      <th>198</th>\n",
       "      <td>199</td>\n",
       "      <td>Employee 199</td>\n",
       "      <td>26</td>\n",
       "      <td>Engineering</td>\n",
       "      <td>107423</td>\n",
       "      <td>UK</td>\n",
       "      <td>13</td>\n",
       "      <td>5</td>\n",
       "    </tr>\n",
       "    <tr>\n",
       "      <th>192</th>\n",
       "      <td>193</td>\n",
       "      <td>Employee 193</td>\n",
       "      <td>59</td>\n",
       "      <td>Engineering</td>\n",
       "      <td>105485</td>\n",
       "      <td>Germany</td>\n",
       "      <td>7</td>\n",
       "      <td>4</td>\n",
       "    </tr>\n",
       "  </tbody>\n",
       "</table>\n",
       "</div>"
      ],
      "text/plain": [
       "     employee_id          name  age   department  salary  country  \\\n",
       "198          199  Employee 199   26  Engineering  107423       UK   \n",
       "192          193  Employee 193   59  Engineering  105485  Germany   \n",
       "\n",
       "     years_of_experience  performance_score  \n",
       "198                   13                  5  \n",
       "192                    7                  4  "
      ]
     },
     "execution_count": 7,
     "metadata": {},
     "output_type": "execute_result"
    }
   ],
   "source": [
    "# engineering employees with salary >100000 and perfomance score>=\n",
    "employees_filtered = employees_data[(employees_data['department'] == 'Engineering') & \n",
    "(employees_data['salary'] > 100000) & (employees_data['performance_score'] >= 4)]\n",
    "# Sort them by salary descending\n",
    "sorted_employees = employees_filtered.sort_values(by='salary', ascending=False)\n",
    "\n",
    "sorted_employees\n"
   ]
  },
  {
   "cell_type": "markdown",
   "id": "0235433d-f3b8-4cd0-a298-2bd7f5749c72",
   "metadata": {},
   "source": [
    "#### 3. Grouping and Aggregation"
   ]
  },
  {
   "cell_type": "code",
   "execution_count": 8,
   "id": "ce95781a-0795-44a3-8f22-b6797b897da9",
   "metadata": {},
   "outputs": [
    {
     "name": "stdout",
     "output_type": "stream",
     "text": [
      "    department  average_salary  average_years_of_experience\n",
      "0  Engineering         75446.0                    14.294118\n",
      "1      Finance         75769.0                    14.575758\n",
      "2           HR         75446.0                    14.515152\n",
      "3    Marketing         75769.0                    14.382353\n",
      "4          R&D         76092.0                    14.636364\n",
      "5        Sales         75123.0                    14.454545\n"
     ]
    }
   ],
   "source": [
    "##grouping by department and aggregating average salary and years_of _epxerience\n",
    "employees_info = employees_data.groupby(['department'], as_index=False).agg(\n",
    "    average_salary=('salary','mean'), average_years_of_experience=('years_of_experience','mean'))\n",
    "\n",
    "print(employees_info)"
   ]
  },
  {
   "cell_type": "code",
   "execution_count": 9,
   "id": "e5cad6ed-dad0-42ef-b7c0-89b2f6100b78",
   "metadata": {},
   "outputs": [
    {
     "name": "stdout",
     "output_type": "stream",
     "text": [
      "\n",
      "Department with the highest mean performance score:\n",
      "Engineering\n"
     ]
    }
   ],
   "source": [
    "##department with highest performance score\n",
    "highest_perf_score = employees_data.groupby('department')['performance_score'].mean().idxmax()\n",
    "print(\"\\nDepartment with the highest mean performance score:\")\n",
    "print(highest_perf_score)"
   ]
  },
  {
   "cell_type": "markdown",
   "id": "d82e67cb-528b-4c27-a6ca-696bcd127b13",
   "metadata": {},
   "source": [
    "#### 4. Handling Missing or Erroneous Data"
   ]
  },
  {
   "cell_type": "code",
   "execution_count": 10,
   "id": "b4046f39-a342-4f93-9676-aa6999ec610b",
   "metadata": {},
   "outputs": [
    {
     "name": "stdout",
     "output_type": "stream",
     "text": [
      "employee_id            0\n",
      "name                   0\n",
      "age                    0\n",
      "department             0\n",
      "salary                 0\n",
      "country                0\n",
      "years_of_experience    0\n",
      "performance_score      0\n",
      "dtype: int64\n"
     ]
    }
   ],
   "source": [
    "##check missing values\n",
    "print(employees_data.isnull().sum())"
   ]
  },
  {
   "cell_type": "code",
   "execution_count": 11,
   "id": "a80caf41-bd33-4865-9364-af8597a6e328",
   "metadata": {},
   "outputs": [],
   "source": [
    "###no missing data "
   ]
  },
  {
   "cell_type": "code",
   "execution_count": 13,
   "id": "6aa007b0-9319-4c6c-9ff4-afff42e16ff4",
   "metadata": {},
   "outputs": [
    {
     "name": "stdout",
     "output_type": "stream",
     "text": [
      "Rows with erroneous ages:\n"
     ]
    },
    {
     "data": {
      "text/html": [
       "<div>\n",
       "<style scoped>\n",
       "    .dataframe tbody tr th:only-of-type {\n",
       "        vertical-align: middle;\n",
       "    }\n",
       "\n",
       "    .dataframe tbody tr th {\n",
       "        vertical-align: top;\n",
       "    }\n",
       "\n",
       "    .dataframe thead th {\n",
       "        text-align: right;\n",
       "    }\n",
       "</style>\n",
       "<table border=\"1\" class=\"dataframe\">\n",
       "  <thead>\n",
       "    <tr style=\"text-align: right;\">\n",
       "      <th></th>\n",
       "      <th>employee_id</th>\n",
       "      <th>name</th>\n",
       "      <th>age</th>\n",
       "      <th>department</th>\n",
       "      <th>salary</th>\n",
       "      <th>country</th>\n",
       "      <th>years_of_experience</th>\n",
       "      <th>performance_score</th>\n",
       "    </tr>\n",
       "  </thead>\n",
       "  <tbody>\n",
       "    <tr>\n",
       "      <th>37</th>\n",
       "      <td>38</td>\n",
       "      <td>Employee 38</td>\n",
       "      <td>60</td>\n",
       "      <td>Marketing</td>\n",
       "      <td>55420</td>\n",
       "      <td>UK</td>\n",
       "      <td>7</td>\n",
       "      <td>4</td>\n",
       "    </tr>\n",
       "    <tr>\n",
       "      <th>76</th>\n",
       "      <td>77</td>\n",
       "      <td>Employee 77</td>\n",
       "      <td>60</td>\n",
       "      <td>Finance</td>\n",
       "      <td>68017</td>\n",
       "      <td>China</td>\n",
       "      <td>15</td>\n",
       "      <td>3</td>\n",
       "    </tr>\n",
       "    <tr>\n",
       "      <th>115</th>\n",
       "      <td>116</td>\n",
       "      <td>Employee 116</td>\n",
       "      <td>60</td>\n",
       "      <td>Marketing</td>\n",
       "      <td>80614</td>\n",
       "      <td>Germany</td>\n",
       "      <td>23</td>\n",
       "      <td>2</td>\n",
       "    </tr>\n",
       "    <tr>\n",
       "      <th>154</th>\n",
       "      <td>155</td>\n",
       "      <td>Employee 155</td>\n",
       "      <td>60</td>\n",
       "      <td>Finance</td>\n",
       "      <td>93211</td>\n",
       "      <td>USA</td>\n",
       "      <td>0</td>\n",
       "      <td>1</td>\n",
       "    </tr>\n",
       "    <tr>\n",
       "      <th>193</th>\n",
       "      <td>194</td>\n",
       "      <td>Employee 194</td>\n",
       "      <td>60</td>\n",
       "      <td>Marketing</td>\n",
       "      <td>105808</td>\n",
       "      <td>France</td>\n",
       "      <td>8</td>\n",
       "      <td>5</td>\n",
       "    </tr>\n",
       "  </tbody>\n",
       "</table>\n",
       "</div>"
      ],
      "text/plain": [
       "     employee_id          name  age department  salary  country  \\\n",
       "37            38   Employee 38   60  Marketing   55420       UK   \n",
       "76            77   Employee 77   60    Finance   68017    China   \n",
       "115          116  Employee 116   60  Marketing   80614  Germany   \n",
       "154          155  Employee 155   60    Finance   93211      USA   \n",
       "193          194  Employee 194   60  Marketing  105808   France   \n",
       "\n",
       "     years_of_experience  performance_score  \n",
       "37                     7                  4  \n",
       "76                    15                  3  \n",
       "115                   23                  2  \n",
       "154                    0                  1  \n",
       "193                    8                  5  "
      ]
     },
     "execution_count": 13,
     "metadata": {},
     "output_type": "execute_result"
    }
   ],
   "source": [
    "#suppose that 60years is the age of retirement and one someone turned 60 they retire\n",
    "## now we will check the valid age range for employemnet\n",
    "valid_age = (18, 59)\n",
    "erroneous_age = employees_data[\n",
    "    (employees_data['age'] < valid_age[0]) | (employees_data['age'] > valid_age[1])]\n",
    "\n",
    "print(\"Rows with erroneous ages:\")\n",
    "erroneous_age"
   ]
  },
  {
   "cell_type": "code",
   "execution_count": 14,
   "id": "4682e693-58f2-4059-b641-2d7d82872d69",
   "metadata": {},
   "outputs": [],
   "source": [
    "## 5 rows have erroneous age lets drop them\n",
    "new_employees_data = employees_data[employees_data['age'] < 60]"
   ]
  },
  {
   "cell_type": "code",
   "execution_count": 15,
   "id": "56e01cb1-8053-4f0c-ae35-f99a033e057f",
   "metadata": {},
   "outputs": [
    {
     "name": "stdout",
     "output_type": "stream",
     "text": [
      "Rows with erroneous ages:\n"
     ]
    },
    {
     "data": {
      "text/html": [
       "<div>\n",
       "<style scoped>\n",
       "    .dataframe tbody tr th:only-of-type {\n",
       "        vertical-align: middle;\n",
       "    }\n",
       "\n",
       "    .dataframe tbody tr th {\n",
       "        vertical-align: top;\n",
       "    }\n",
       "\n",
       "    .dataframe thead th {\n",
       "        text-align: right;\n",
       "    }\n",
       "</style>\n",
       "<table border=\"1\" class=\"dataframe\">\n",
       "  <thead>\n",
       "    <tr style=\"text-align: right;\">\n",
       "      <th></th>\n",
       "      <th>employee_id</th>\n",
       "      <th>name</th>\n",
       "      <th>age</th>\n",
       "      <th>department</th>\n",
       "      <th>salary</th>\n",
       "      <th>country</th>\n",
       "      <th>years_of_experience</th>\n",
       "      <th>performance_score</th>\n",
       "    </tr>\n",
       "  </thead>\n",
       "  <tbody>\n",
       "  </tbody>\n",
       "</table>\n",
       "</div>"
      ],
      "text/plain": [
       "Empty DataFrame\n",
       "Columns: [employee_id, name, age, department, salary, country, years_of_experience, performance_score]\n",
       "Index: []"
      ]
     },
     "execution_count": 15,
     "metadata": {},
     "output_type": "execute_result"
    }
   ],
   "source": [
    "valid_age = (18, 59)\n",
    "erroneous_age = new_employees_data[\n",
    "    (new_employees_data['age'] < valid_age[0]) | (new_employees_data['age'] > valid_age[1])]\n",
    "\n",
    "print(\"Rows with erroneous ages:\")\n",
    "erroneous_age"
   ]
  },
  {
   "cell_type": "markdown",
   "id": "187dcbe5-af98-4b09-accb-81f33bfa5a62",
   "metadata": {},
   "source": [
    "##### now corrected"
   ]
  },
  {
   "cell_type": "code",
   "execution_count": 16,
   "id": "d511b362-9b95-4d19-ad69-fc09dee2efc6",
   "metadata": {},
   "outputs": [
    {
     "data": {
      "text/html": [
       "<div>\n",
       "<style scoped>\n",
       "    .dataframe tbody tr th:only-of-type {\n",
       "        vertical-align: middle;\n",
       "    }\n",
       "\n",
       "    .dataframe tbody tr th {\n",
       "        vertical-align: top;\n",
       "    }\n",
       "\n",
       "    .dataframe thead th {\n",
       "        text-align: right;\n",
       "    }\n",
       "</style>\n",
       "<table border=\"1\" class=\"dataframe\">\n",
       "  <thead>\n",
       "    <tr style=\"text-align: right;\">\n",
       "      <th></th>\n",
       "      <th>employee_id</th>\n",
       "      <th>name</th>\n",
       "      <th>age</th>\n",
       "      <th>department</th>\n",
       "      <th>salary</th>\n",
       "      <th>country</th>\n",
       "      <th>years_of_experience</th>\n",
       "      <th>performance_score</th>\n",
       "    </tr>\n",
       "  </thead>\n",
       "  <tbody>\n",
       "    <tr>\n",
       "      <th>0</th>\n",
       "      <td>1</td>\n",
       "      <td>Employee 1</td>\n",
       "      <td>23</td>\n",
       "      <td>Engineering</td>\n",
       "      <td>43469</td>\n",
       "      <td>USA</td>\n",
       "      <td>1</td>\n",
       "      <td>2</td>\n",
       "    </tr>\n",
       "    <tr>\n",
       "      <th>1</th>\n",
       "      <td>2</td>\n",
       "      <td>Employee 2</td>\n",
       "      <td>24</td>\n",
       "      <td>Marketing</td>\n",
       "      <td>43792</td>\n",
       "      <td>Canada</td>\n",
       "      <td>2</td>\n",
       "      <td>3</td>\n",
       "    </tr>\n",
       "    <tr>\n",
       "      <th>2</th>\n",
       "      <td>3</td>\n",
       "      <td>Employee 3</td>\n",
       "      <td>25</td>\n",
       "      <td>Sales</td>\n",
       "      <td>44115</td>\n",
       "      <td>UK</td>\n",
       "      <td>3</td>\n",
       "      <td>4</td>\n",
       "    </tr>\n",
       "    <tr>\n",
       "      <th>3</th>\n",
       "      <td>4</td>\n",
       "      <td>Employee 4</td>\n",
       "      <td>26</td>\n",
       "      <td>HR</td>\n",
       "      <td>44438</td>\n",
       "      <td>Germany</td>\n",
       "      <td>4</td>\n",
       "      <td>5</td>\n",
       "    </tr>\n",
       "    <tr>\n",
       "      <th>4</th>\n",
       "      <td>5</td>\n",
       "      <td>Employee 5</td>\n",
       "      <td>27</td>\n",
       "      <td>Finance</td>\n",
       "      <td>44761</td>\n",
       "      <td>France</td>\n",
       "      <td>5</td>\n",
       "      <td>1</td>\n",
       "    </tr>\n",
       "    <tr>\n",
       "      <th>...</th>\n",
       "      <td>...</td>\n",
       "      <td>...</td>\n",
       "      <td>...</td>\n",
       "      <td>...</td>\n",
       "      <td>...</td>\n",
       "      <td>...</td>\n",
       "      <td>...</td>\n",
       "      <td>...</td>\n",
       "    </tr>\n",
       "    <tr>\n",
       "      <th>195</th>\n",
       "      <td>196</td>\n",
       "      <td>Employee 196</td>\n",
       "      <td>23</td>\n",
       "      <td>HR</td>\n",
       "      <td>106454</td>\n",
       "      <td>China</td>\n",
       "      <td>10</td>\n",
       "      <td>2</td>\n",
       "    </tr>\n",
       "    <tr>\n",
       "      <th>196</th>\n",
       "      <td>197</td>\n",
       "      <td>Employee 197</td>\n",
       "      <td>24</td>\n",
       "      <td>Finance</td>\n",
       "      <td>106777</td>\n",
       "      <td>USA</td>\n",
       "      <td>11</td>\n",
       "      <td>3</td>\n",
       "    </tr>\n",
       "    <tr>\n",
       "      <th>197</th>\n",
       "      <td>198</td>\n",
       "      <td>Employee 198</td>\n",
       "      <td>25</td>\n",
       "      <td>R&amp;D</td>\n",
       "      <td>107100</td>\n",
       "      <td>Canada</td>\n",
       "      <td>12</td>\n",
       "      <td>4</td>\n",
       "    </tr>\n",
       "    <tr>\n",
       "      <th>198</th>\n",
       "      <td>199</td>\n",
       "      <td>Employee 199</td>\n",
       "      <td>26</td>\n",
       "      <td>Engineering</td>\n",
       "      <td>107423</td>\n",
       "      <td>UK</td>\n",
       "      <td>13</td>\n",
       "      <td>5</td>\n",
       "    </tr>\n",
       "    <tr>\n",
       "      <th>199</th>\n",
       "      <td>200</td>\n",
       "      <td>Employee 200</td>\n",
       "      <td>27</td>\n",
       "      <td>Marketing</td>\n",
       "      <td>107746</td>\n",
       "      <td>Germany</td>\n",
       "      <td>14</td>\n",
       "      <td>1</td>\n",
       "    </tr>\n",
       "  </tbody>\n",
       "</table>\n",
       "<p>195 rows × 8 columns</p>\n",
       "</div>"
      ],
      "text/plain": [
       "     employee_id          name  age   department  salary  country  \\\n",
       "0              1    Employee 1   23  Engineering   43469      USA   \n",
       "1              2    Employee 2   24    Marketing   43792   Canada   \n",
       "2              3    Employee 3   25        Sales   44115       UK   \n",
       "3              4    Employee 4   26           HR   44438  Germany   \n",
       "4              5    Employee 5   27      Finance   44761   France   \n",
       "..           ...           ...  ...          ...     ...      ...   \n",
       "195          196  Employee 196   23           HR  106454    China   \n",
       "196          197  Employee 197   24      Finance  106777      USA   \n",
       "197          198  Employee 198   25          R&D  107100   Canada   \n",
       "198          199  Employee 199   26  Engineering  107423       UK   \n",
       "199          200  Employee 200   27    Marketing  107746  Germany   \n",
       "\n",
       "     years_of_experience  performance_score  \n",
       "0                      1                  2  \n",
       "1                      2                  3  \n",
       "2                      3                  4  \n",
       "3                      4                  5  \n",
       "4                      5                  1  \n",
       "..                   ...                ...  \n",
       "195                   10                  2  \n",
       "196                   11                  3  \n",
       "197                   12                  4  \n",
       "198                   13                  5  \n",
       "199                   14                  1  \n",
       "\n",
       "[195 rows x 8 columns]"
      ]
     },
     "execution_count": 16,
     "metadata": {},
     "output_type": "execute_result"
    }
   ],
   "source": [
    "new_employees_data"
   ]
  },
  {
   "cell_type": "markdown",
   "id": "9303fdb3-1c01-4198-a286-7c1d1758be51",
   "metadata": {},
   "source": [
    "#### 5 Merging / Joining"
   ]
  },
  {
   "cell_type": "code",
   "execution_count": 17,
   "id": "2f268498-7ef5-4a0b-8b62-b4861179e543",
   "metadata": {},
   "outputs": [
    {
     "name": "stdout",
     "output_type": "stream",
     "text": [
      "count             195\n",
      "unique              6\n",
      "top       Engineering\n",
      "freq               34\n",
      "Name: department, dtype: object\n",
      "['Engineering' 'Marketing' 'Sales' 'HR' 'Finance' 'R&D']\n"
     ]
    }
   ],
   "source": [
    "# now lets check for country\n",
    "column_depart = 'department'\n",
    "print(new_employees_data[column_depart].describe())\n",
    "print(new_employees_data[column_depart].unique())"
   ]
  },
  {
   "cell_type": "markdown",
   "id": "2149587b-0ed2-4876-8d18-05ce647afabb",
   "metadata": {},
   "source": [
    "##### so we have 6 departments"
   ]
  },
  {
   "cell_type": "code",
   "execution_count": 18,
   "id": "47bcbe51-df4f-445f-b0ca-8f024d161f28",
   "metadata": {},
   "outputs": [],
   "source": [
    "departmental_info = pd.DataFrame({\n",
    "    'department': ['HR','Sales','Marketing','Finance','R&D','Engineering'],\n",
    "    'manager':['Clive Dons','Peter Peter','John Doe','Charlie Charles','David Goliath','Alice Bob'],\n",
    "    'budget':[2000000,1500000,500000,900000,700000,900000]})"
   ]
  },
  {
   "cell_type": "code",
   "execution_count": 19,
   "id": "a2a5b337-17f1-4be8-8314-1430512f4b09",
   "metadata": {},
   "outputs": [
    {
     "data": {
      "text/html": [
       "<div>\n",
       "<style scoped>\n",
       "    .dataframe tbody tr th:only-of-type {\n",
       "        vertical-align: middle;\n",
       "    }\n",
       "\n",
       "    .dataframe tbody tr th {\n",
       "        vertical-align: top;\n",
       "    }\n",
       "\n",
       "    .dataframe thead th {\n",
       "        text-align: right;\n",
       "    }\n",
       "</style>\n",
       "<table border=\"1\" class=\"dataframe\">\n",
       "  <thead>\n",
       "    <tr style=\"text-align: right;\">\n",
       "      <th></th>\n",
       "      <th>employee_id</th>\n",
       "      <th>name</th>\n",
       "      <th>age</th>\n",
       "      <th>department</th>\n",
       "      <th>salary</th>\n",
       "      <th>country</th>\n",
       "      <th>years_of_experience</th>\n",
       "      <th>performance_score</th>\n",
       "      <th>manager</th>\n",
       "      <th>budget</th>\n",
       "    </tr>\n",
       "  </thead>\n",
       "  <tbody>\n",
       "    <tr>\n",
       "      <th>0</th>\n",
       "      <td>1</td>\n",
       "      <td>Employee 1</td>\n",
       "      <td>23</td>\n",
       "      <td>Engineering</td>\n",
       "      <td>43469</td>\n",
       "      <td>USA</td>\n",
       "      <td>1</td>\n",
       "      <td>2</td>\n",
       "      <td>Alice Bob</td>\n",
       "      <td>900000</td>\n",
       "    </tr>\n",
       "    <tr>\n",
       "      <th>1</th>\n",
       "      <td>2</td>\n",
       "      <td>Employee 2</td>\n",
       "      <td>24</td>\n",
       "      <td>Marketing</td>\n",
       "      <td>43792</td>\n",
       "      <td>Canada</td>\n",
       "      <td>2</td>\n",
       "      <td>3</td>\n",
       "      <td>John Doe</td>\n",
       "      <td>500000</td>\n",
       "    </tr>\n",
       "    <tr>\n",
       "      <th>2</th>\n",
       "      <td>3</td>\n",
       "      <td>Employee 3</td>\n",
       "      <td>25</td>\n",
       "      <td>Sales</td>\n",
       "      <td>44115</td>\n",
       "      <td>UK</td>\n",
       "      <td>3</td>\n",
       "      <td>4</td>\n",
       "      <td>Peter Peter</td>\n",
       "      <td>1500000</td>\n",
       "    </tr>\n",
       "    <tr>\n",
       "      <th>3</th>\n",
       "      <td>4</td>\n",
       "      <td>Employee 4</td>\n",
       "      <td>26</td>\n",
       "      <td>HR</td>\n",
       "      <td>44438</td>\n",
       "      <td>Germany</td>\n",
       "      <td>4</td>\n",
       "      <td>5</td>\n",
       "      <td>Clive Dons</td>\n",
       "      <td>2000000</td>\n",
       "    </tr>\n",
       "    <tr>\n",
       "      <th>4</th>\n",
       "      <td>5</td>\n",
       "      <td>Employee 5</td>\n",
       "      <td>27</td>\n",
       "      <td>Finance</td>\n",
       "      <td>44761</td>\n",
       "      <td>France</td>\n",
       "      <td>5</td>\n",
       "      <td>1</td>\n",
       "      <td>Charlie Charles</td>\n",
       "      <td>900000</td>\n",
       "    </tr>\n",
       "    <tr>\n",
       "      <th>...</th>\n",
       "      <td>...</td>\n",
       "      <td>...</td>\n",
       "      <td>...</td>\n",
       "      <td>...</td>\n",
       "      <td>...</td>\n",
       "      <td>...</td>\n",
       "      <td>...</td>\n",
       "      <td>...</td>\n",
       "      <td>...</td>\n",
       "      <td>...</td>\n",
       "    </tr>\n",
       "    <tr>\n",
       "      <th>190</th>\n",
       "      <td>196</td>\n",
       "      <td>Employee 196</td>\n",
       "      <td>23</td>\n",
       "      <td>HR</td>\n",
       "      <td>106454</td>\n",
       "      <td>China</td>\n",
       "      <td>10</td>\n",
       "      <td>2</td>\n",
       "      <td>Clive Dons</td>\n",
       "      <td>2000000</td>\n",
       "    </tr>\n",
       "    <tr>\n",
       "      <th>191</th>\n",
       "      <td>197</td>\n",
       "      <td>Employee 197</td>\n",
       "      <td>24</td>\n",
       "      <td>Finance</td>\n",
       "      <td>106777</td>\n",
       "      <td>USA</td>\n",
       "      <td>11</td>\n",
       "      <td>3</td>\n",
       "      <td>Charlie Charles</td>\n",
       "      <td>900000</td>\n",
       "    </tr>\n",
       "    <tr>\n",
       "      <th>192</th>\n",
       "      <td>198</td>\n",
       "      <td>Employee 198</td>\n",
       "      <td>25</td>\n",
       "      <td>R&amp;D</td>\n",
       "      <td>107100</td>\n",
       "      <td>Canada</td>\n",
       "      <td>12</td>\n",
       "      <td>4</td>\n",
       "      <td>David Goliath</td>\n",
       "      <td>700000</td>\n",
       "    </tr>\n",
       "    <tr>\n",
       "      <th>193</th>\n",
       "      <td>199</td>\n",
       "      <td>Employee 199</td>\n",
       "      <td>26</td>\n",
       "      <td>Engineering</td>\n",
       "      <td>107423</td>\n",
       "      <td>UK</td>\n",
       "      <td>13</td>\n",
       "      <td>5</td>\n",
       "      <td>Alice Bob</td>\n",
       "      <td>900000</td>\n",
       "    </tr>\n",
       "    <tr>\n",
       "      <th>194</th>\n",
       "      <td>200</td>\n",
       "      <td>Employee 200</td>\n",
       "      <td>27</td>\n",
       "      <td>Marketing</td>\n",
       "      <td>107746</td>\n",
       "      <td>Germany</td>\n",
       "      <td>14</td>\n",
       "      <td>1</td>\n",
       "      <td>John Doe</td>\n",
       "      <td>500000</td>\n",
       "    </tr>\n",
       "  </tbody>\n",
       "</table>\n",
       "<p>195 rows × 10 columns</p>\n",
       "</div>"
      ],
      "text/plain": [
       "     employee_id          name  age   department  salary  country  \\\n",
       "0              1    Employee 1   23  Engineering   43469      USA   \n",
       "1              2    Employee 2   24    Marketing   43792   Canada   \n",
       "2              3    Employee 3   25        Sales   44115       UK   \n",
       "3              4    Employee 4   26           HR   44438  Germany   \n",
       "4              5    Employee 5   27      Finance   44761   France   \n",
       "..           ...           ...  ...          ...     ...      ...   \n",
       "190          196  Employee 196   23           HR  106454    China   \n",
       "191          197  Employee 197   24      Finance  106777      USA   \n",
       "192          198  Employee 198   25          R&D  107100   Canada   \n",
       "193          199  Employee 199   26  Engineering  107423       UK   \n",
       "194          200  Employee 200   27    Marketing  107746  Germany   \n",
       "\n",
       "     years_of_experience  performance_score          manager   budget  \n",
       "0                      1                  2        Alice Bob   900000  \n",
       "1                      2                  3         John Doe   500000  \n",
       "2                      3                  4      Peter Peter  1500000  \n",
       "3                      4                  5       Clive Dons  2000000  \n",
       "4                      5                  1  Charlie Charles   900000  \n",
       "..                   ...                ...              ...      ...  \n",
       "190                   10                  2       Clive Dons  2000000  \n",
       "191                   11                  3  Charlie Charles   900000  \n",
       "192                   12                  4    David Goliath   700000  \n",
       "193                   13                  5        Alice Bob   900000  \n",
       "194                   14                  1         John Doe   500000  \n",
       "\n",
       "[195 rows x 10 columns]"
      ]
     },
     "execution_count": 19,
     "metadata": {},
     "output_type": "execute_result"
    }
   ],
   "source": [
    "###merging with old data\n",
    "merged_data =pd.merge(new_employees_data, departmental_info, on='department', how='inner')\n",
    "merged_data"
   ]
  },
  {
   "cell_type": "markdown",
   "id": "5501a171-e11c-4b6f-b762-e23bf1d3e8e4",
   "metadata": {},
   "source": [
    "#### 6.Advanced Query"
   ]
  },
  {
   "cell_type": "code",
   "execution_count": 20,
   "id": "bf6f09c8-501c-40ba-b7f3-f315c9a10a08",
   "metadata": {},
   "outputs": [],
   "source": [
    "## top 3 highest paid employees in each country\n",
    "merged_data['rank'] = merged_data.groupby('country')['salary'].rank(method='dense', ascending=False)"
   ]
  },
  {
   "cell_type": "code",
   "execution_count": 21,
   "id": "ea20034d-207f-4b8a-b2c4-5d2c104168b7",
   "metadata": {},
   "outputs": [
    {
     "name": "stdout",
     "output_type": "stream",
     "text": [
      "Top 3 Highest Paid Employees in Canada:\n",
      "     employee_id          name country  salary  rank\n",
      "179          184  Employee 184  Canada  102578   3.0\n",
      "186          191  Employee 191  Canada  104839   2.0\n",
      "192          198  Employee 198  Canada  107100   1.0\n",
      "\n",
      "\n",
      "Top 3 Highest Paid Employees in China:\n",
      "     employee_id          name country  salary  rank\n",
      "177          182  Employee 182   China  101932   3.0\n",
      "184          189  Employee 189   China  104193   2.0\n",
      "190          196  Employee 196   China  106454   1.0\n",
      "\n",
      "\n",
      "Top 3 Highest Paid Employees in France:\n",
      "     employee_id          name country  salary  rank\n",
      "168          173  Employee 173  France   99025   3.0\n",
      "175          180  Employee 180  France  101286   2.0\n",
      "182          187  Employee 187  France  103547   1.0\n",
      "\n",
      "\n",
      "Top 3 Highest Paid Employees in Germany:\n",
      "     employee_id          name  country  salary  rank\n",
      "181          186  Employee 186  Germany  103224   3.0\n",
      "188          193  Employee 193  Germany  105485   2.0\n",
      "194          200  Employee 200  Germany  107746   1.0\n",
      "\n",
      "\n",
      "Top 3 Highest Paid Employees in India:\n",
      "     employee_id          name country  salary  rank\n",
      "176          181  Employee 181   India  101609   3.0\n",
      "183          188  Employee 188   India  103870   2.0\n",
      "189          195  Employee 195   India  106131   1.0\n",
      "\n",
      "\n",
      "Top 3 Highest Paid Employees in UK:\n",
      "     employee_id          name country  salary  rank\n",
      "180          185  Employee 185      UK  102901   3.0\n",
      "187          192  Employee 192      UK  105162   2.0\n",
      "193          199  Employee 199      UK  107423   1.0\n",
      "\n",
      "\n",
      "Top 3 Highest Paid Employees in USA:\n",
      "     employee_id          name country  salary  rank\n",
      "178          183  Employee 183     USA  102255   3.0\n",
      "185          190  Employee 190     USA  104516   2.0\n",
      "191          197  Employee 197     USA  106777   1.0\n",
      "\n",
      "\n"
     ]
    }
   ],
   "source": [
    "##ranked employees\n",
    "top_three = merged_data[merged_data['rank'] <=3]\n",
    "\n",
    "for country, group in top_three.groupby('country'):\n",
    "    print(f\"Top 3 Highest Paid Employees in {country}:\")\n",
    "    print(group[['employee_id', 'name', 'country', 'salary', 'rank']])\n",
    "    print(\"\\n\")"
   ]
  },
  {
   "cell_type": "markdown",
   "id": "f331ccf7-eee8-4a1a-b8e5-a81d0e07b81e",
   "metadata": {},
   "source": [
    "## B. Matplotlib & Seaborn (Visualization)"
   ]
  },
  {
   "cell_type": "markdown",
   "id": "664f75af-9686-44f4-8fb2-c445be8c9b86",
   "metadata": {},
   "source": [
    "#### 7.Distribution Plot"
   ]
  },
  {
   "cell_type": "code",
   "execution_count": 22,
   "id": "e382330a-79d3-48ed-8c4f-3a99d9c09bce",
   "metadata": {},
   "outputs": [
    {
     "data": {
      "image/png": "[encoded data removed]",
      "text/plain": [
       "<Figure size 500x100 with 1 Axes>"
      ]
     },
     "metadata": {},
     "output_type": "display_data"
    }
   ],
   "source": [
    "sns.set_style(\"white\")\n",
    "\n",
    "### Define the colour scheme\n",
    "c1 = \"#173f5f\"\n",
    "c2 = \"#20639b\"\n",
    "c3 = \"#3caea3\"\n",
    "c4 = \"#f6d55c\"\n",
    "c5 = \"#ed553b\"\n",
    "\n",
    "custom_palette = [c1, c2, c3, c4, c5]\n",
    "sns.palplot(sns.color_palette(custom_palette))"
   ]
  },
  {
   "cell_type": "code",
   "execution_count": 23,
   "id": "47c1658b-fcde-4b68-a535-ae0060eff9ef",
   "metadata": {},
   "outputs": [
    {
     "data": {
      "image/png": "[encoded data removed]",
      "text/plain": [
       "<Figure size 1500x800 with 1 Axes>"
      ]
     },
     "metadata": {},
     "output_type": "display_data"
    }
   ],
   "source": [
    "### Plot a histogram and KDE (Kernel Density Estimate)\n",
    "\n",
    "plt.figure(figsize=(15, 8))\n",
    "sns.histplot(merged_data['salary'], kde=True, bins=20, color=custom_palette[4], stat='density')\n",
    "plt.title('Distribution of Employee Salaries')\n",
    "plt.xlabel('Salary')\n",
    "plt.ylabel('Density')\n",
    "plt.show()\n"
   ]
  },
  {
   "cell_type": "markdown",
   "id": "d0d3d947-439b-4cd6-8b07-7b126d2ca30d",
   "metadata": {},
   "source": [
    "######  The density curve closely follows the shape of the histogram, reinforcing the idea of an even distribution across this salary range. \n",
    "Notably, there are no visible outliers or extreme values that stand out from the rest of the data. This lack of asymmetry further supports the conclusion that the distribution is quite balanced"
   ]
  },
  {
   "cell_type": "markdown",
   "id": "b33319b7-2d2b-4e6f-9bee-01298044c03d",
   "metadata": {},
   "source": [
    "##### 8. Bar Plot of Averages"
   ]
  },
  {
   "cell_type": "code",
   "execution_count": 24,
   "id": "3c86ab38-9d5b-4280-8b44-da4423ce8727",
   "metadata": {},
   "outputs": [
    {
     "data": {
      "image/png": "[encoded data removed]",
      "text/plain": [
       "<Figure size 1200x600 with 1 Axes>"
      ]
     },
     "metadata": {},
     "output_type": "display_data"
    }
   ],
   "source": [
    "# first we will group the data by department with performance_score avarage\n",
    "average_performance = merged_data.groupby('department')['performance_score'].mean().reset_index()\n",
    "##plotting the barplot\n",
    "plt.figure(figsize=(12, 6))\n",
    "sns.barplot(x='department', y='performance_score', data=average_performance, palette=custom_palette)\n",
    "\n",
    "plt.title('Average Performance Score by Department')\n",
    "plt.xlabel('Department')\n",
    "plt.ylabel('Average Performance Score')\n",
    "\n",
    "plt.show()"
   ]
  },
  {
   "cell_type": "markdown",
   "id": "36e3408a-29fb-43f3-90ef-0de6d05bbc8c",
   "metadata": {},
   "source": [
    "### 9.Box Plot"
   ]
  },
  {
   "cell_type": "code",
   "execution_count": 25,
   "id": "222966d4-94d5-4b28-9a25-cd850e765ee4",
   "metadata": {},
   "outputs": [
    {
     "data": {
      "image/png": "[encoded data removed]",
      "text/plain": [
       "<Figure size 1200x600 with 1 Axes>"
      ]
     },
     "metadata": {},
     "output_type": "display_data"
    }
   ],
   "source": [
    "# Box plot grouped by country\n",
    "plt.figure(figsize=(12, 6))\n",
    "sns.boxplot(x='country', y='salary', data=merged_data, palette=custom_palette)\n",
    "\n",
    "plt.title('Salary Distribution by Country')\n",
    "plt.xlabel('Country')\n",
    "plt.ylabel('Salary')\n",
    "\n",
    "plt.show()\n"
   ]
  },
  {
   "cell_type": "markdown",
   "id": "bbcfd756-5c4f-4f53-bc46-76d9a0accdd2",
   "metadata": {},
   "source": [
    "###### UK appears to have the largest salary range compared to other countries."
   ]
  },
  {
   "cell_type": "code",
   "execution_count": 26,
   "id": "fdc2dbdb-22db-4b89-8974-332b36913aa8",
   "metadata": {},
   "outputs": [
    {
     "data": {
      "image/png": "[encoded data removed]",
      "text/plain": [
       "<Figure size 1000x600 with 1 Axes>"
      ]
     },
     "metadata": {},
     "output_type": "display_data"
    }
   ],
   "source": [
    "# Create the scatter plot with regression line\n",
    "plt.figure(figsize=(10, 6))\n",
    "sns.regplot(x='years_of_experience', y='salary', data=merged_data, scatter_kws={'s': 50, 'color': 'blue'}, line_kws={'color': 'red'})\n",
    "\n",
    "# Customize the plot\n",
    "plt.title('Salary vs. Years of Experience')\n",
    "plt.xlabel('Years of Experience')\n",
    "plt.ylabel('Salary')\n",
    "\n",
    "# Show the plot\n",
    "plt.show()\n"
   ]
  },
  {
   "cell_type": "markdown",
   "id": "582495d6-1cba-48a6-bcae-03ecd0204e34",
   "metadata": {},
   "source": [
    "From the scatter plot, the regression line suggests a very weak positive correlation between salary and years of experience. The slope of the regression line is nearly flat, indicating that as years of experience increase, salaries do not increase significantly."
   ]
  },
  {
   "cell_type": "code",
   "execution_count": null,
   "id": "2a8618bc-2cde-4482-a53e-abf7b943bba5",
   "metadata": {},
   "outputs": [],
   "source": []
  }
 ],
 "metadata": {
  "kernelspec": {
   "display_name": "Python 3 (ipykernel)",
   "language": "python",
   "name": "python3"
  },
  "language_info": {
   "codemirror_mode": {
    "name": "ipython",
    "version": 3
   },
   "file_extension": ".py",
   "mimetype": "text/x-python",
   "name": "python",
   "nbconvert_exporter": "python",
   "pygments_lexer": "ipython3",
   "version": "3.12.4"
  }
 },
 "nbformat": 4,
 "nbformat_minor": 5
}
